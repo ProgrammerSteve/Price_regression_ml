{
 "cells": [
  {
   "cell_type": "code",
   "execution_count": 2,
   "id": "0558de33-2e1e-4f71-821d-1dca2c939c8f",
   "metadata": {},
   "outputs": [],
   "source": [
    "import os\n",
    "import zipfile\n",
    "from urllib.request import urlretrieve\n",
    "\n",
    "# Download the zip file\n",
    "url = \"https://github.com/mrdbourke/zero-to-mastery-ml/raw/master/data/bluebook-for-bulldozers.zip\"\n",
    "local_zip, _ = urlretrieve(url, \"bluebook-for-bulldozers.zip\")\n",
    "\n",
    "# Extract the zip file\n",
    "with zipfile.ZipFile(local_zip, 'r') as zip_ref:\n",
    "    zip_ref.extractall('.')\n"
   ]
  },
  {
   "cell_type": "code",
   "execution_count": null,
   "id": "e5651ed7-55b3-45d6-b558-9b29537b083d",
   "metadata": {},
   "outputs": [],
   "source": []
  }
 ],
 "metadata": {
  "kernelspec": {
   "display_name": "Python 3 (ipykernel)",
   "language": "python",
   "name": "python3"
  },
  "language_info": {
   "codemirror_mode": {
    "name": "ipython",
    "version": 3
   },
   "file_extension": ".py",
   "mimetype": "text/x-python",
   "name": "python",
   "nbconvert_exporter": "python",
   "pygments_lexer": "ipython3",
   "version": "3.10.13"
  }
 },
 "nbformat": 4,
 "nbformat_minor": 5
}
